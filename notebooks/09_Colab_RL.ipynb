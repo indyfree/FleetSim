{
  "nbformat": 4,
  "nbformat_minor": 0,
  "metadata": {
    "colab": {
      "name": "09-Colab-RL.ipynb",
      "version": "0.3.2",
      "provenance": [],
      "collapsed_sections": [],
      "toc_visible": true,
      "include_colab_link": true
    },
    "kernelspec": {
      "name": "python3",
      "display_name": "Python 3"
    }
  },
  "cells": [
    {
      "cell_type": "markdown",
      "metadata": {
        "id": "view-in-github",
        "colab_type": "text"
      },
      "source": [
        "<a href=\"https://colab.research.google.com/github/indyfree/FleetSim/blob/master/notebooks/09_Colab_RL.ipynb\" target=\"_parent\"><img src=\"https://colab.research.google.com/assets/colab-badge.svg\" alt=\"Open In Colab\"/></a>"
      ]
    },
    {
      "metadata": {
        "id": "yEwfNa9T0s0z",
        "colab_type": "text"
      },
      "cell_type": "markdown",
      "source": [
        "# Get the Data"
      ]
    },
    {
      "metadata": {
        "id": "gD3ILKe00xmJ",
        "colab_type": "code",
        "outputId": "5a4ce308-5195-4484-d233-865f5459935a",
        "colab": {
          "base_uri": "https://localhost:8080/",
          "height": 124
        }
      },
      "cell_type": "code",
      "source": [
        "from google.colab import drive\n",
        "drive.mount('/drive')"
      ],
      "execution_count": 2,
      "outputs": [
        {
          "output_type": "stream",
          "text": [
            "Go to this URL in a browser: https://accounts.google.com/o/oauth2/auth?client_id=947318989803-6bn6qk8qdgf4n4g3pfee6491hc0brc4i.apps.googleusercontent.com&redirect_uri=urn%3Aietf%3Awg%3Aoauth%3A2.0%3Aoob&scope=email%20https%3A%2F%2Fwww.googleapis.com%2Fauth%2Fdocs.test%20https%3A%2F%2Fwww.googleapis.com%2Fauth%2Fdrive%20https%3A%2F%2Fwww.googleapis.com%2Fauth%2Fdrive.photos.readonly%20https%3A%2F%2Fwww.googleapis.com%2Fauth%2Fpeopleapi.readonly&response_type=code\n",
            "\n",
            "Enter your authorization code:\n",
            "··········\n",
            "Mounted at /drive\n"
          ],
          "name": "stdout"
        }
      ]
    },
    {
      "metadata": {
        "id": "Imrd2i-w09bW",
        "colab_type": "code",
        "colab": {}
      },
      "cell_type": "code",
      "source": [
        "!cp -r /drive/'My Drive'/Data ./data"
      ],
      "execution_count": 0,
      "outputs": []
    },
    {
      "metadata": {
        "id": "1Jnt7H74RC86",
        "colab_type": "text"
      },
      "cell_type": "markdown",
      "source": [
        "# Install FleetSim and Requirements"
      ]
    },
    {
      "metadata": {
        "id": "IBF5IUyfSpnr",
        "colab_type": "code",
        "outputId": "1cb5f693-c2fa-4a2a-946a-d1207dba2e8d",
        "colab": {
          "base_uri": "https://localhost:8080/",
          "height": 783
        }
      },
      "cell_type": "code",
      "source": [
        "!pip install git+https://github.com/indyfree/FleetSim.git"
      ],
      "execution_count": 6,
      "outputs": [
        {
          "output_type": "stream",
          "text": [
            "Collecting git+https://github.com/indyfree/FleetSim.git\n",
            "  Cloning https://github.com/indyfree/FleetSim.git to /tmp/pip-req-build-abo8lqjs\n",
            "Requirement already satisfied (use --upgrade to upgrade): evsim==0.0.1 from git+https://github.com/indyfree/FleetSim.git in /usr/local/lib/python3.6/dist-packages\n",
            "Requirement already satisfied: Click>=7.0 in /usr/local/lib/python3.6/dist-packages (from evsim==0.0.1) (7.0)\n",
            "Requirement already satisfied: dataclasses>=0.6 in /usr/local/lib/python3.6/dist-packages (from evsim==0.0.1) (0.6)\n",
            "Collecting gym>=0.12 (from evsim==0.0.1)\n",
            "\u001b[?25l  Downloading https://files.pythonhosted.org/packages/c7/98/fad8b85827d9aca922eec6a8747dd696aac281ebdc4b1225acf51f8f612f/gym-0.12.0.tar.gz (1.5MB)\n",
            "\u001b[K    100% |████████████████████████████████| 1.5MB 13.2MB/s \n",
            "\u001b[?25hRequirement already satisfied: numpy>=1.16.1 in /usr/local/lib/python3.6/dist-packages (from evsim==0.0.1) (1.16.2)\n",
            "Collecting pandas>=0.23.4 (from evsim==0.0.1)\n",
            "\u001b[?25l  Downloading https://files.pythonhosted.org/packages/19/74/e50234bc82c553fecdbd566d8650801e3fe2d6d8c8d940638e3d8a7c5522/pandas-0.24.2-cp36-cp36m-manylinux1_x86_64.whl (10.1MB)\n",
            "\u001b[K    100% |████████████████████████████████| 10.1MB 2.9MB/s \n",
            "\u001b[?25hRequirement already satisfied: simpy>=3.0.11 in /usr/local/lib/python3.6/dist-packages (from evsim==0.0.1) (3.0.11)\n",
            "Requirement already satisfied: scipy in /usr/local/lib/python3.6/dist-packages (from gym>=0.12->evsim==0.0.1) (1.1.0)\n",
            "Requirement already satisfied: requests>=2.0 in /usr/local/lib/python3.6/dist-packages (from gym>=0.12->evsim==0.0.1) (2.18.4)\n",
            "Requirement already satisfied: six in /usr/local/lib/python3.6/dist-packages (from gym>=0.12->evsim==0.0.1) (1.11.0)\n",
            "Requirement already satisfied: pyglet>=1.2.0 in /usr/local/lib/python3.6/dist-packages (from gym>=0.12->evsim==0.0.1) (1.3.2)\n",
            "Requirement already satisfied: python-dateutil>=2.5.0 in /usr/local/lib/python3.6/dist-packages (from pandas>=0.23.4->evsim==0.0.1) (2.5.3)\n",
            "Requirement already satisfied: pytz>=2011k in /usr/local/lib/python3.6/dist-packages (from pandas>=0.23.4->evsim==0.0.1) (2018.9)\n",
            "Requirement already satisfied: chardet<3.1.0,>=3.0.2 in /usr/local/lib/python3.6/dist-packages (from requests>=2.0->gym>=0.12->evsim==0.0.1) (3.0.4)\n",
            "Requirement already satisfied: idna<2.7,>=2.5 in /usr/local/lib/python3.6/dist-packages (from requests>=2.0->gym>=0.12->evsim==0.0.1) (2.6)\n",
            "Requirement already satisfied: urllib3<1.23,>=1.21.1 in /usr/local/lib/python3.6/dist-packages (from requests>=2.0->gym>=0.12->evsim==0.0.1) (1.22)\n",
            "Requirement already satisfied: certifi>=2017.4.17 in /usr/local/lib/python3.6/dist-packages (from requests>=2.0->gym>=0.12->evsim==0.0.1) (2019.3.9)\n",
            "Requirement already satisfied: future in /usr/local/lib/python3.6/dist-packages (from pyglet>=1.2.0->gym>=0.12->evsim==0.0.1) (0.16.0)\n",
            "Building wheels for collected packages: evsim, gym\n",
            "  Building wheel for evsim (setup.py) ... \u001b[?25ldone\n",
            "\u001b[?25h  Stored in directory: /tmp/pip-ephem-wheel-cache-19vjgk1_/wheels/4c/39/cf/a37daa33074589b54cc98c605391569e155d37fe9bd2047d74\n",
            "  Building wheel for gym (setup.py) ... \u001b[?25ldone\n",
            "\u001b[?25h  Stored in directory: /root/.cache/pip/wheels/bf/b9/fd/e1f54a4b99eca10de0d37cc7ecc2ac29a2e51b4eff7e1e5ca7\n",
            "Successfully built evsim gym\n",
            "Installing collected packages: gym, pandas\n",
            "  Found existing installation: gym 0.10.11\n",
            "    Uninstalling gym-0.10.11:\n",
            "      Successfully uninstalled gym-0.10.11\n",
            "  Found existing installation: pandas 0.22.0\n",
            "    Uninstalling pandas-0.22.0:\n",
            "      Successfully uninstalled pandas-0.22.0\n",
            "Successfully installed gym-0.12.0 pandas-0.24.2\n"
          ],
          "name": "stdout"
        },
        {
          "output_type": "display_data",
          "data": {
            "application/vnd.colab-display-data+json": {
              "pip_warning": {
                "packages": [
                  "gym",
                  "pandas"
                ]
              }
            }
          },
          "metadata": {
            "tags": []
          }
        }
      ]
    },
    {
      "metadata": {
        "id": "m8kkjYfTRkj6",
        "colab_type": "text"
      },
      "cell_type": "markdown",
      "source": [
        "# Train RL Agent"
      ]
    },
    {
      "metadata": {
        "id": "Du1awCtDTA5S",
        "colab_type": "code",
        "colab": {}
      },
      "cell_type": "code",
      "source": [
        "import gym\n",
        "import evsim\n",
        "from evsim.data import load\n",
        "\n",
        "from pathlib import Path"
      ],
      "execution_count": 0,
      "outputs": []
    },
    {
      "metadata": {
        "id": "VZ0HD2iISmix",
        "colab_type": "code",
        "outputId": "4ae0dc65-d359-4b9c-ad02-b6cf81d0c024",
        "colab": {
          "base_uri": "https://localhost:8080/",
          "height": 430
        }
      },
      "cell_type": "code",
      "source": [
        "load.car2go_trips().head(5)"
      ],
      "execution_count": 5,
      "outputs": [
        {
          "output_type": "execute_result",
          "data": {
            "text/html": [
              "<div>\n",
              "<style scoped>\n",
              "    .dataframe tbody tr th:only-of-type {\n",
              "        vertical-align: middle;\n",
              "    }\n",
              "\n",
              "    .dataframe tbody tr th {\n",
              "        vertical-align: top;\n",
              "    }\n",
              "\n",
              "    .dataframe thead th {\n",
              "        text-align: right;\n",
              "    }\n",
              "</style>\n",
              "<table border=\"1\" class=\"dataframe\">\n",
              "  <thead>\n",
              "    <tr style=\"text-align: right;\">\n",
              "      <th></th>\n",
              "      <th>EV</th>\n",
              "      <th>start_time</th>\n",
              "      <th>start_address</th>\n",
              "      <th>start_lat</th>\n",
              "      <th>start_lon</th>\n",
              "      <th>start_soc</th>\n",
              "      <th>end_time</th>\n",
              "      <th>end_address</th>\n",
              "      <th>end_lat</th>\n",
              "      <th>end_lon</th>\n",
              "      <th>end_soc</th>\n",
              "      <th>trip_duration</th>\n",
              "      <th>trip_distance</th>\n",
              "      <th>end_charging</th>\n",
              "      <th>trip_price</th>\n",
              "    </tr>\n",
              "  </thead>\n",
              "  <tbody>\n",
              "    <tr>\n",
              "      <th>0</th>\n",
              "      <td>S-GO2459</td>\n",
              "      <td>1487804400</td>\n",
              "      <td>Friedenaustraße 25, 70188 Stuttgart</td>\n",
              "      <td>9.2167</td>\n",
              "      <td>48.7874</td>\n",
              "      <td>78</td>\n",
              "      <td>1487805900</td>\n",
              "      <td>Hangstraße 2, 70327 Stuttgart</td>\n",
              "      <td>9.2541</td>\n",
              "      <td>48.7862</td>\n",
              "      <td>70</td>\n",
              "      <td>25</td>\n",
              "      <td>12.8</td>\n",
              "      <td>0</td>\n",
              "      <td>6.0</td>\n",
              "    </tr>\n",
              "    <tr>\n",
              "      <th>1</th>\n",
              "      <td>S-GO2450</td>\n",
              "      <td>1487804400</td>\n",
              "      <td>Ameisenbergstraße 30, 70188 Stuttgart</td>\n",
              "      <td>9.1982</td>\n",
              "      <td>48.7843</td>\n",
              "      <td>66</td>\n",
              "      <td>1487806500</td>\n",
              "      <td>Stresemannstraße 8, 70191 Stuttgart</td>\n",
              "      <td>9.1743</td>\n",
              "      <td>48.8037</td>\n",
              "      <td>59</td>\n",
              "      <td>35</td>\n",
              "      <td>11.2</td>\n",
              "      <td>0</td>\n",
              "      <td>8.4</td>\n",
              "    </tr>\n",
              "    <tr>\n",
              "      <th>2</th>\n",
              "      <td>S-GO2293</td>\n",
              "      <td>1487804400</td>\n",
              "      <td>Birkenhofstraße 4, 70599 Stuttgart/Ecke Welfen...</td>\n",
              "      <td>9.2082</td>\n",
              "      <td>48.7191</td>\n",
              "      <td>99</td>\n",
              "      <td>1487805000</td>\n",
              "      <td>Im Asemwald 56, 70599 Stuttgart</td>\n",
              "      <td>9.1935</td>\n",
              "      <td>48.7258</td>\n",
              "      <td>97</td>\n",
              "      <td>10</td>\n",
              "      <td>3.2</td>\n",
              "      <td>0</td>\n",
              "      <td>2.4</td>\n",
              "    </tr>\n",
              "    <tr>\n",
              "      <th>3</th>\n",
              "      <td>S-GO2650</td>\n",
              "      <td>1487804700</td>\n",
              "      <td>Hofener Straße 126, 70372 Stuttgart</td>\n",
              "      <td>9.2271</td>\n",
              "      <td>48.8150</td>\n",
              "      <td>100</td>\n",
              "      <td>1487805600</td>\n",
              "      <td>Ipfweg 3, 70374 Stuttgart</td>\n",
              "      <td>9.2416</td>\n",
              "      <td>48.8041</td>\n",
              "      <td>97</td>\n",
              "      <td>15</td>\n",
              "      <td>4.8</td>\n",
              "      <td>0</td>\n",
              "      <td>3.6</td>\n",
              "    </tr>\n",
              "    <tr>\n",
              "      <th>4</th>\n",
              "      <td>S-GO2455</td>\n",
              "      <td>1487804700</td>\n",
              "      <td>Dinkelsbühler Str. 20, 70374 Stuttgart</td>\n",
              "      <td>9.2425</td>\n",
              "      <td>48.8038</td>\n",
              "      <td>31</td>\n",
              "      <td>1487806200</td>\n",
              "      <td>Taubenheimstr. 60, 70372 Stgtt/Ecke Kissingerstr.</td>\n",
              "      <td>9.2290</td>\n",
              "      <td>48.8027</td>\n",
              "      <td>27</td>\n",
              "      <td>25</td>\n",
              "      <td>6.4</td>\n",
              "      <td>1</td>\n",
              "      <td>6.0</td>\n",
              "    </tr>\n",
              "  </tbody>\n",
              "</table>\n",
              "</div>"
            ],
            "text/plain": [
              "         EV  start_time                                      start_address  \\\n",
              "0  S-GO2459  1487804400                Friedenaustraße 25, 70188 Stuttgart   \n",
              "1  S-GO2450  1487804400              Ameisenbergstraße 30, 70188 Stuttgart   \n",
              "2  S-GO2293  1487804400  Birkenhofstraße 4, 70599 Stuttgart/Ecke Welfen...   \n",
              "3  S-GO2650  1487804700                Hofener Straße 126, 70372 Stuttgart   \n",
              "4  S-GO2455  1487804700             Dinkelsbühler Str. 20, 70374 Stuttgart   \n",
              "\n",
              "   start_lat  start_lon  start_soc    end_time  \\\n",
              "0     9.2167    48.7874         78  1487805900   \n",
              "1     9.1982    48.7843         66  1487806500   \n",
              "2     9.2082    48.7191         99  1487805000   \n",
              "3     9.2271    48.8150        100  1487805600   \n",
              "4     9.2425    48.8038         31  1487806200   \n",
              "\n",
              "                                         end_address  end_lat  end_lon  \\\n",
              "0                      Hangstraße 2, 70327 Stuttgart   9.2541  48.7862   \n",
              "1                Stresemannstraße 8, 70191 Stuttgart   9.1743  48.8037   \n",
              "2                    Im Asemwald 56, 70599 Stuttgart   9.1935  48.7258   \n",
              "3                          Ipfweg 3, 70374 Stuttgart   9.2416  48.8041   \n",
              "4  Taubenheimstr. 60, 70372 Stgtt/Ecke Kissingerstr.   9.2290  48.8027   \n",
              "\n",
              "   end_soc  trip_duration  trip_distance  end_charging  trip_price  \n",
              "0       70             25           12.8             0         6.0  \n",
              "1       59             35           11.2             0         8.4  \n",
              "2       97             10            3.2             0         2.4  \n",
              "3       97             15            4.8             0         3.6  \n",
              "4       27             25            6.4             1         6.0  "
            ]
          },
          "metadata": {
            "tags": []
          },
          "execution_count": 5
        }
      ]
    },
    {
      "metadata": {
        "id": "yh4qtTd7TUCW",
        "colab_type": "code",
        "colab": {
          "base_uri": "https://localhost:8080/",
          "height": 35
        },
        "outputId": "f1701ebc-6ff6-4492-8c1e-c75fa593d071"
      },
      "cell_type": "code",
      "source": [
        "env = gym.make('evsim-v0')"
      ],
      "execution_count": 4,
      "outputs": [
        {
          "output_type": "execute_result",
          "data": {
            "text/plain": [
              "<evsim.envs.fleet_env.FleetEnv at 0x7f15d2a5ddd8>"
            ]
          },
          "metadata": {
            "tags": []
          },
          "execution_count": 4
        }
      ]
    }
  ]
}