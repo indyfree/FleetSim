{
 "cells": [
  {
   "cell_type": "markdown",
   "metadata": {
    "toc": true
   },
   "source": [
    "<h1>Table of Contents &lt;br&gt;&lt;/br&gt;<span class=\"tocSkip\"></span></h1>\n",
    "<div class=\"toc\"><ul class=\"toc-item\"><li><ul class=\"toc-item\"><li><span><a href=\"#Imports-and-Data-loading\" data-toc-modified-id=\"Imports-and-Data-loading-0.1\"><span class=\"toc-item-num\">0.1&nbsp;&nbsp;</span>Imports and Data loading</a></span></li></ul></li><li><span><a href=\"#Intraday\" data-toc-modified-id=\"Intraday-1\"><span class=\"toc-item-num\">1&nbsp;&nbsp;</span>Intraday</a></span></li><li><span><a href=\"#Balancing\" data-toc-modified-id=\"Balancing-2\"><span class=\"toc-item-num\">2&nbsp;&nbsp;</span>Balancing</a></span></li><li><span><a href=\"#Comparison\" data-toc-modified-id=\"Comparison-3\"><span class=\"toc-item-num\">3&nbsp;&nbsp;</span>Comparison</a></span><ul class=\"toc-item\"><li><span><a href=\"#Plot-differences\" data-toc-modified-id=\"Plot-differences-3.1\"><span class=\"toc-item-num\">3.1&nbsp;&nbsp;</span>Plot differences</a></span></li></ul></li><li><span><a href=\"#Demand-Patterns\" data-toc-modified-id=\"Demand-Patterns-4\"><span class=\"toc-item-num\">4&nbsp;&nbsp;</span>Demand Patterns</a></span><ul class=\"toc-item\"><li><span><a href=\"#Yearly-rental-patterns\" data-toc-modified-id=\"Yearly-rental-patterns-4.1\"><span class=\"toc-item-num\">4.1&nbsp;&nbsp;</span>Yearly rental patterns</a></span></li><li><span><a href=\"#Weekly-Pattern-of-connected-EVS\" data-toc-modified-id=\"Weekly-Pattern-of-connected-EVS-4.2\"><span class=\"toc-item-num\">4.2&nbsp;&nbsp;</span>Weekly Pattern of connected EVS</a></span></li><li><span><a href=\"#Daily-Pattern-of-connected-EVS\" data-toc-modified-id=\"Daily-Pattern-of-connected-EVS-4.3\"><span class=\"toc-item-num\">4.3&nbsp;&nbsp;</span>Daily Pattern of connected EVS</a></span></li><li><span><a href=\"#2.4.-Average-Daily-Pattern\" data-toc-modified-id=\"2.4.-Average-Daily-Pattern-4.4\"><span class=\"toc-item-num\">4.4&nbsp;&nbsp;</span>2.4. Average Daily Pattern</a></span></li></ul></li></ul></div>"
   ]
  },
  {
   "cell_type": "markdown",
   "metadata": {},
   "source": [
    "## Imports and Data loading"
   ]
  },
  {
   "cell_type": "code",
   "execution_count": 1,
   "metadata": {},
   "outputs": [],
   "source": [
    "# Display plots inline\n",
    "%matplotlib inline\n",
    "\n",
    "# Autoreload all package before excecuting a call\n",
    "%load_ext autoreload\n",
    "%autoreload 2"
   ]
  },
  {
   "cell_type": "code",
   "execution_count": 1,
   "metadata": {},
   "outputs": [],
   "source": [
    "from datetime import datetime\n",
    "import matplotlib.pyplot as plt\n",
    "import numpy as np\n",
    "import pandas as pd\n",
    "import gym\n",
    "\n",
    "from evsim.data import load_car2go_trips, load_car2go_capacity"
   ]
  },
  {
   "cell_type": "code",
   "execution_count": 6,
   "metadata": {},
   "outputs": [],
   "source": [
    "env = gym.make('evsim-v0')"
   ]
  },
  {
   "cell_type": "code",
   "execution_count": 10,
   "metadata": {},
   "outputs": [
    {
     "data": {
      "text/plain": [
       "NoneType"
      ]
     },
     "execution_count": 10,
     "metadata": {},
     "output_type": "execute_result"
    }
   ],
   "source": [
    "type(env.action_space)"
   ]
  }
 ],
 "metadata": {
  "kernelspec": {
   "display_name": "evsim",
   "language": "python",
   "name": "evsim"
  },
  "language_info": {
   "codemirror_mode": {
    "name": "ipython",
    "version": 3
   },
   "file_extension": ".py",
   "mimetype": "text/x-python",
   "name": "python",
   "nbconvert_exporter": "python",
   "pygments_lexer": "ipython3",
   "version": "3.7.2"
  },
  "toc": {
   "base_numbering": 1,
   "nav_menu": {},
   "number_sections": true,
   "sideBar": true,
   "skip_h1_title": false,
   "title_cell": "Table of Contents <br></br>",
   "title_sidebar": "Contents",
   "toc_cell": true,
   "toc_position": {},
   "toc_section_display": true,
   "toc_window_display": false
  }
 },
 "nbformat": 4,
 "nbformat_minor": 2
}
