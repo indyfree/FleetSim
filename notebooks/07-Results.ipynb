{
 "cells": [
  {
   "cell_type": "markdown",
   "metadata": {
    "toc": true
   },
   "source": [
    "<h1>Table of Contents &lt;br&gt;&lt;/br&gt;<span class=\"tocSkip\"></span></h1>\n",
    "<div class=\"toc\"><ul class=\"toc-item\"><li><ul class=\"toc-item\"><li><span><a href=\"#Imports-and-Data-loading\" data-toc-modified-id=\"Imports-and-Data-loading-0.1\"><span class=\"toc-item-num\">0.1&nbsp;&nbsp;</span>Imports and Data loading</a></span></li></ul></li><li><span><a href=\"#Intraday\" data-toc-modified-id=\"Intraday-1\"><span class=\"toc-item-num\">1&nbsp;&nbsp;</span>Intraday</a></span></li><li><span><a href=\"#Balancing\" data-toc-modified-id=\"Balancing-2\"><span class=\"toc-item-num\">2&nbsp;&nbsp;</span>Balancing</a></span></li><li><span><a href=\"#Integrated\" data-toc-modified-id=\"Integrated-3\"><span class=\"toc-item-num\">3&nbsp;&nbsp;</span>Integrated</a></span></li><li><span><a href=\"#Plots\" data-toc-modified-id=\"Plots-4\"><span class=\"toc-item-num\">4&nbsp;&nbsp;</span>Plots</a></span><ul class=\"toc-item\"><li><span><a href=\"#Style\" data-toc-modified-id=\"Style-4.1\"><span class=\"toc-item-num\">4.1&nbsp;&nbsp;</span>Style</a></span></li><li><span><a href=\"#Fleet-Utilization\" data-toc-modified-id=\"Fleet-Utilization-4.2\"><span class=\"toc-item-num\">4.2&nbsp;&nbsp;</span>Fleet Utilization</a></span></li></ul></li></ul></div>"
   ]
  },
  {
   "cell_type": "markdown",
   "metadata": {},
   "source": [
    "## Imports and Data loading"
   ]
  },
  {
   "cell_type": "code",
   "execution_count": 2,
   "metadata": {},
   "outputs": [],
   "source": [
    "# Display plots inline\n",
    "%matplotlib inline\n",
    "\n",
    "# Autoreload all package before excecuting a call\n",
    "%load_ext autoreload\n",
    "%autoreload 2"
   ]
  },
  {
   "cell_type": "code",
   "execution_count": 4,
   "metadata": {},
   "outputs": [],
   "source": [
    "from datetime import datetime\n",
    "import matplotlib.pyplot as plt\n",
    "import numpy as np\n",
    "import pandas as pd\n",
    "import seaborn as sns\n",
    "\n",
    "from evsim.data import load"
   ]
  },
  {
   "cell_type": "code",
   "execution_count": 11,
   "metadata": {},
   "outputs": [],
   "source": [
    "pd.set_option('display.float_format', '{:.2f}'.format)\n",
    "\n",
    "start = \"2016-06-01\"\n",
    "end = \"2018-01-01\"\n",
    "\n",
    "def read_results(path):\n",
    "    df = pd.read_csv(path)\n",
    "    df[\"timestamp\"] = df[\"timestamp\"].apply(lambda x : datetime.fromtimestamp(x))\n",
    "    df = df.set_index(\"timestamp\") \n",
    "    df = df[start:end]\n",
    "    return df"
   ]
  },
  {
   "cell_type": "markdown",
   "metadata": {},
   "source": [
    "# Intraday"
   ]
  },
  {
   "cell_type": "code",
   "execution_count": 13,
   "metadata": {},
   "outputs": [
    {
     "data": {
      "text/plain": [
       "charged_regular_kwh    619.10\n",
       "charged_vpp_kwh       1461.39\n",
       "imbalance_kwh            0.00\n",
       "lost_rentals_eur         0.00\n",
       "lost_rentals_nb          0.00\n",
       "profit_eur              65.62\n",
       "dtype: float64"
      ]
     },
     "execution_count": 13,
     "metadata": {},
     "output_type": "execute_result"
    }
   ],
   "source": [
    "df_i = read_results(\"../results/intraday-benchmark.csv\")\n",
    "df_i.sum()/1000"
   ]
  },
  {
   "cell_type": "markdown",
   "metadata": {},
   "source": [
    "# Balancing"
   ]
  },
  {
   "cell_type": "code",
   "execution_count": 14,
   "metadata": {},
   "outputs": [
    {
     "data": {
      "text/plain": [
       "charged_regular_kwh    191.78\n",
       "charged_vpp_kwh       1888.71\n",
       "imbalance_kwh            0.00\n",
       "lost_rentals_eur         0.00\n",
       "lost_rentals_nb          0.00\n",
       "profit_eur              98.24\n",
       "dtype: float64"
      ]
     },
     "execution_count": 14,
     "metadata": {},
     "output_type": "execute_result"
    }
   ],
   "source": [
    "df_b = read_results(\"../results/balancing-benchmark.csv\")\n",
    "df_b.sum()/1000"
   ]
  },
  {
   "cell_type": "markdown",
   "metadata": {},
   "source": [
    "# Integrated"
   ]
  },
  {
   "cell_type": "code",
   "execution_count": 15,
   "metadata": {},
   "outputs": [
    {
     "data": {
      "text/plain": [
       "charged_regular_kwh    198.06\n",
       "charged_vpp_kwh       1882.43\n",
       "imbalance_kwh            0.00\n",
       "lost_rentals_eur         0.00\n",
       "lost_rentals_nb          0.00\n",
       "profit_eur              97.83\n",
       "dtype: float64"
      ]
     },
     "execution_count": 15,
     "metadata": {},
     "output_type": "execute_result"
    }
   ],
   "source": [
    "df_in = read_results(\"../results/integrated-benchmark.csv\")\n",
    "df_in.sum()/1000"
   ]
  },
  {
   "cell_type": "markdown",
   "metadata": {},
   "source": [
    "# Plots"
   ]
  },
  {
   "cell_type": "markdown",
   "metadata": {},
   "source": [
    "## Style"
   ]
  },
  {
   "cell_type": "code",
   "execution_count": 101,
   "metadata": {},
   "outputs": [
    {
     "data": {
      "image/png": "[encoded data removed]",
      "text/plain": [
       "<Figure size 360x72 with 1 Axes>"
      ]
     },
     "metadata": {},
     "output_type": "display_data"
    }
   ],
   "source": [
    "sns.set(rc={'figure.figsize':(10,6)})\n",
    "\n",
    "sns.set_context(\"paper\")\n",
    "\n",
    "sns.set_style(\"white\")\n",
    "sns.set_style(\"ticks\")\n",
    "\n",
    "\n",
    "palette = sns.cubehelix_palette(5, start=.5, rot=-.75, reverse=True)\n",
    "sns.set_palette(palette)\n",
    "\n",
    "sns.palplot(palette)"
   ]
  },
  {
   "cell_type": "markdown",
   "metadata": {},
   "source": [
    "## Fleet Utilization"
   ]
  },
  {
   "cell_type": "code",
   "execution_count": 102,
   "metadata": {},
   "outputs": [
    {
     "data": {
      "image/png": "[encoded data removed]",
      "text/plain": [
       "<Figure size 720x432 with 1 Axes>"
      ]
     },
     "metadata": {},
     "output_type": "display_data"
    }
   ],
   "source": [
    "df_stats = read_results(\"../results/stats-baseline.csv\")\n",
    "df_stats[\"hour\"] = df_stats.index.hour\n",
    "df_stats.head()\n",
    "\n",
    "Y = [\"available_evs\", \"charging_evs\", \"vpp_evs\"]\n",
    "for y in Y:\n",
    "    label = y.split(\"_\")[0].title()\n",
    "    label = label.upper() if label == \"Vpp\" else label\n",
    "    ax = sns.lineplot(x=\"hour\", y=y, ci=\"sd\", data=df_stats, label=label)\n",
    "    \n",
    "    \n",
    "sns.despine(offset=10)\n",
    "ax.set(xlabel='Hour', ylabel='Number EVs')\n",
    "plt.xticks(np.arange(0, 24, 2));\n",
    "plt.yticks(np.arange(0, 500, 50));\n",
    "plt.savefig(\"../results/fig/fleet-utilization.png\")"
   ]
  }
 ],
 "metadata": {
  "kernelspec": {
   "display_name": "evsim",
   "language": "python",
   "name": "evsim"
  },
  "language_info": {
   "codemirror_mode": {
    "name": "ipython",
    "version": 3
   },
   "file_extension": ".py",
   "mimetype": "text/x-python",
   "name": "python",
   "nbconvert_exporter": "python",
   "pygments_lexer": "ipython3",
   "version": "3.7.2"
  },
  "toc": {
   "base_numbering": 1,
   "nav_menu": {},
   "number_sections": true,
   "sideBar": true,
   "skip_h1_title": false,
   "title_cell": "Table of Contents <br></br>",
   "title_sidebar": "Contents",
   "toc_cell": true,
   "toc_position": {},
   "toc_section_display": true,
   "toc_window_display": false
  }
 },
 "nbformat": 4,
 "nbformat_minor": 2
}
