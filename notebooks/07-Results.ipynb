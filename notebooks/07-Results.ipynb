{
 "cells": [
  {
   "cell_type": "markdown",
   "metadata": {
    "toc": true
   },
   "source": [
    "<h1>Table of Contents &lt;br&gt;&lt;/br&gt;<span class=\"tocSkip\"></span></h1>\n",
    "<div class=\"toc\"><ul class=\"toc-item\"><li><ul class=\"toc-item\"><li><span><a href=\"#Imports-and-Data-loading\" data-toc-modified-id=\"Imports-and-Data-loading-0.1\"><span class=\"toc-item-num\">0.1&nbsp;&nbsp;</span>Imports and Data loading</a></span></li><li><span><a href=\"#Regular-Profit\" data-toc-modified-id=\"Regular-Profit-0.2\"><span class=\"toc-item-num\">0.2&nbsp;&nbsp;</span>Regular Profit</a></span></li><li><span><a href=\"#Charging-Stations\" data-toc-modified-id=\"Charging-Stations-0.3\"><span class=\"toc-item-num\">0.3&nbsp;&nbsp;</span>Charging Stations</a></span></li></ul></li><li><span><a href=\"#Baseline-Charging\" data-toc-modified-id=\"Baseline-Charging-1\"><span class=\"toc-item-num\">1&nbsp;&nbsp;</span>Baseline Charging</a></span></li><li><span><a href=\"#Intraday\" data-toc-modified-id=\"Intraday-2\"><span class=\"toc-item-num\">2&nbsp;&nbsp;</span>Intraday</a></span><ul class=\"toc-item\"><li><span><a href=\"#Benchmark\" data-toc-modified-id=\"Benchmark-2.1\"><span class=\"toc-item-num\">2.1&nbsp;&nbsp;</span>Benchmark</a></span></li><li><span><a href=\"#Risk-Averse-(r=0.3,-acc=90)\" data-toc-modified-id=\"Risk-Averse-(r=0.3,-acc=90)-2.2\"><span class=\"toc-item-num\">2.2&nbsp;&nbsp;</span>Risk Averse (r=0.3, acc=90)</a></span></li></ul></li><li><span><a href=\"#Balancing\" data-toc-modified-id=\"Balancing-3\"><span class=\"toc-item-num\">3&nbsp;&nbsp;</span>Balancing</a></span><ul class=\"toc-item\"><li><span><a href=\"#Benchmark\" data-toc-modified-id=\"Benchmark-3.1\"><span class=\"toc-item-num\">3.1&nbsp;&nbsp;</span>Benchmark</a></span></li><li><span><a href=\"#Risk-Averse-(r=0.5,-acc=70)\" data-toc-modified-id=\"Risk-Averse-(r=0.5,-acc=70)-3.2\"><span class=\"toc-item-num\">3.2&nbsp;&nbsp;</span>Risk Averse (r=0.5, acc=70)</a></span></li></ul></li><li><span><a href=\"#Integrated\" data-toc-modified-id=\"Integrated-4\"><span class=\"toc-item-num\">4&nbsp;&nbsp;</span>Integrated</a></span><ul class=\"toc-item\"><li><span><a href=\"#Risk-Averse-(r=0.5,0.3,-acc=70,90)\" data-toc-modified-id=\"Risk-Averse-(r=0.5,0.3,-acc=70,90)-4.1\"><span class=\"toc-item-num\">4.1&nbsp;&nbsp;</span>Risk Averse (r=0.5,0.3, acc=70,90)</a></span></li><li><span><a href=\"#Risk-Seeking-(r=0.2,0.00,-acc=70,90)\" data-toc-modified-id=\"Risk-Seeking-(r=0.2,0.00,-acc=70,90)-4.2\"><span class=\"toc-item-num\">4.2&nbsp;&nbsp;</span>Risk Seeking (r=0.2,0.00, acc=70,90)</a></span></li></ul></li><li><span><a href=\"#Plots\" data-toc-modified-id=\"Plots-5\"><span class=\"toc-item-num\">5&nbsp;&nbsp;</span>Plots</a></span><ul class=\"toc-item\"><li><span><a href=\"#Style\" data-toc-modified-id=\"Style-5.1\"><span class=\"toc-item-num\">5.1&nbsp;&nbsp;</span>Style</a></span></li><li><span><a href=\"#Fleet-Utilization\" data-toc-modified-id=\"Fleet-Utilization-5.2\"><span class=\"toc-item-num\">5.2&nbsp;&nbsp;</span>Fleet Utilization</a></span></li></ul></li></ul></div>"
   ]
  },
  {
   "cell_type": "markdown",
   "metadata": {},
   "source": [
    "## Imports and Data loading"
   ]
  },
  {
   "cell_type": "code",
   "execution_count": 1,
   "metadata": {},
   "outputs": [],
   "source": [
    "# Display plots inline\n",
    "%matplotlib inline\n",
    "\n",
    "# Autoreload all package before excecuting a call\n",
    "%load_ext autoreload\n",
    "%autoreload 2"
   ]
  },
  {
   "cell_type": "code",
   "execution_count": 2,
   "metadata": {},
   "outputs": [],
   "source": [
    "from datetime import datetime\n",
    "import matplotlib.pyplot as plt\n",
    "import numpy as np\n",
    "import pandas as pd\n",
    "import seaborn as sns\n",
    "\n",
    "from evsim.data import load"
   ]
  },
  {
   "cell_type": "code",
   "execution_count": 3,
   "metadata": {},
   "outputs": [],
   "source": [
    "pd.set_option('display.float_format', '{:.4f}'.format)\n",
    "\n",
    "start = \"2016-06-01\"\n",
    "end = \"2018-01-01\"\n",
    "\n",
    "def read_results(path):\n",
    "    df = pd.read_csv(path)\n",
    "    df[\"timestamp\"] = df[\"timestamp\"].apply(lambda x : datetime.fromtimestamp(x))\n",
    "    df = df.set_index(\"timestamp\") \n",
    "    df = df[start:end]\n",
    "    return df"
   ]
  },
  {
   "cell_type": "markdown",
   "metadata": {},
   "source": [
    "## Regular Profit"
   ]
  },
  {
   "cell_type": "code",
   "execution_count": 4,
   "metadata": {},
   "outputs": [
    {
     "data": {
      "text/plain": [
       "17707.869599999995"
      ]
     },
     "execution_count": 4,
     "metadata": {},
     "output_type": "execute_result"
    }
   ],
   "source": [
    "df_car2go = pd.read_pickle(\"../data/processed/trips_big.pkl\")\n",
    "df_car2go[\"end_time\"] = df_car2go[\"end_time\"].apply(lambda x : datetime.fromtimestamp(x))\n",
    "df_car2go = df_car2go.set_index(\"end_time\")\n",
    "df_car2go = df_car2go[start:end]\n",
    "df_car2go[\"trip_price\"].sum()/1000"
   ]
  },
  {
   "cell_type": "markdown",
   "metadata": {},
   "source": [
    "## Charging Stations"
   ]
  },
  {
   "cell_type": "code",
   "execution_count": 5,
   "metadata": {},
   "outputs": [
    {
     "data": {
      "text/plain": [
       "1858"
      ]
     },
     "execution_count": 5,
     "metadata": {},
     "output_type": "execute_result"
    }
   ],
   "source": [
    "df_c = df_car2go.loc[df_car2go[\"end_charging\"] == 1, [\"end_lat\", \"end_lon\"]].round(3)\n",
    "df_c[\"stations\"] = df_c[\"end_lat\"].astype(str) + \";\" + df_c[\"end_lon\"].astype(str)\n",
    "len(df_c[\"stations\"].unique())"
   ]
  },
  {
   "cell_type": "markdown",
   "metadata": {},
   "source": [
    "# Baseline Charging"
   ]
  },
  {
   "cell_type": "code",
   "execution_count": 6,
   "metadata": {},
   "outputs": [
    {
     "data": {
      "text/plain": [
       "charged_regular_kwh   2080.4895\n",
       "charged_vpp_kwh          0.0000\n",
       "imbalance_kwh            0.0000\n",
       "lost_rentals_eur         0.0000\n",
       "lost_rentals_nb          0.0000\n",
       "profit_eur               0.0000\n",
       "dtype: float64"
      ]
     },
     "execution_count": 6,
     "metadata": {},
     "output_type": "execute_result"
    }
   ],
   "source": [
    "df = read_results(\"../results/baseline.csv\")\n",
    "df.sum()/1000"
   ]
  },
  {
   "cell_type": "markdown",
   "metadata": {},
   "source": [
    "# Intraday"
   ]
  },
  {
   "cell_type": "markdown",
   "metadata": {},
   "source": [
    "## Benchmark"
   ]
  },
  {
   "cell_type": "code",
   "execution_count": 7,
   "metadata": {},
   "outputs": [
    {
     "data": {
      "text/plain": [
       "charged_regular_kwh    619.0956\n",
       "charged_vpp_kwh       1461.3939\n",
       "imbalance_kwh            0.0000\n",
       "lost_rentals_eur         0.0000\n",
       "lost_rentals_nb          0.0000\n",
       "profit_eur              65.6227\n",
       "dtype: float64"
      ]
     },
     "execution_count": 7,
     "metadata": {},
     "output_type": "execute_result"
    }
   ],
   "source": [
    "df_i = read_results(\"../results/intraday-benchmark.csv\")\n",
    "df_i.sum()/1000"
   ]
  },
  {
   "cell_type": "markdown",
   "metadata": {},
   "source": [
    "## Risk Averse (r=0.3, acc=90)"
   ]
  },
  {
   "cell_type": "code",
   "execution_count": 8,
   "metadata": {},
   "outputs": [
    {
     "data": {
      "text/plain": [
       "charged_regular_kwh   1095.8454\n",
       "charged_vpp_kwh        984.6441\n",
       "imbalance_kwh            0.0000\n",
       "lost_rentals_eur         0.0000\n",
       "lost_rentals_nb          0.0000\n",
       "profit_eur              45.0835\n",
       "dtype: float64"
      ]
     },
     "execution_count": 8,
     "metadata": {},
     "output_type": "execute_result"
    }
   ],
   "source": [
    "df_i = read_results(\"../results/intraday-risk-averse.csv\")\n",
    "df_i.sum()/1000"
   ]
  },
  {
   "cell_type": "markdown",
   "metadata": {},
   "source": [
    "# Balancing"
   ]
  },
  {
   "cell_type": "markdown",
   "metadata": {},
   "source": [
    "## Benchmark"
   ]
  },
  {
   "cell_type": "code",
   "execution_count": 9,
   "metadata": {},
   "outputs": [
    {
     "data": {
      "text/plain": [
       "charged_regular_kwh    62.7264\n",
       "charged_vpp_kwh       302.7240\n",
       "imbalance_kwh           0.0000\n",
       "lost_rentals_eur        0.1956\n",
       "lost_rentals_nb         0.0010\n",
       "profit_eur             16.4579\n",
       "dtype: float64"
      ]
     },
     "execution_count": 9,
     "metadata": {},
     "output_type": "execute_result"
    }
   ],
   "source": [
    "df_b = read_results(\"../results/balancing-benchmark.csv\")\n",
    "df_b.sum()/1000"
   ]
  },
  {
   "cell_type": "markdown",
   "metadata": {},
   "source": [
    "## Risk Averse (r=0.5, acc=70)"
   ]
  },
  {
   "cell_type": "code",
   "execution_count": 10,
   "metadata": {},
   "outputs": [
    {
     "data": {
      "text/plain": [
       "charged_regular_kwh   1277.9280\n",
       "charged_vpp_kwh        802.5615\n",
       "imbalance_kwh            0.0000\n",
       "lost_rentals_eur         0.0000\n",
       "lost_rentals_nb          0.0000\n",
       "profit_eur              43.6228\n",
       "dtype: float64"
      ]
     },
     "execution_count": 10,
     "metadata": {},
     "output_type": "execute_result"
    }
   ],
   "source": [
    "df_b = read_results(\"../results/balancing-risk-averse.csv\")\n",
    "df_b.sum()/1000"
   ]
  },
  {
   "cell_type": "markdown",
   "metadata": {},
   "source": [
    "# Integrated"
   ]
  },
  {
   "cell_type": "code",
   "execution_count": 33,
   "metadata": {},
   "outputs": [
    {
     "data": {
      "text/plain": [
       "charged_regular_kwh    607.7925\n",
       "charged_vpp_kwh       1472.6970\n",
       "imbalance_kwh            0.0000\n",
       "lost_rentals_eur         0.0000\n",
       "lost_rentals_nb          0.0000\n",
       "profit_eur              77.3565\n",
       "dtype: float64"
      ]
     },
     "execution_count": 33,
     "metadata": {},
     "output_type": "execute_result"
    }
   ],
   "source": [
    "df_in = read_results(\"../results/integrated-benchmark-acc-1.csv\")\n",
    "df_in.sum()/1000"
   ]
  },
  {
   "cell_type": "code",
   "execution_count": 43,
   "metadata": {},
   "outputs": [
    {
     "data": {
      "text/plain": [
       "charged_regular_kwh    618.9867\n",
       "charged_vpp_kwh       1461.5028\n",
       "imbalance_kwh            0.0027\n",
       "lost_rentals_eur         0.0108\n",
       "lost_rentals_nb          0.0020\n",
       "profit_eur              77.6889\n",
       "risk_bal                33.4104\n",
       "risk_intr               66.8208\n",
       "dtype: float64"
      ]
     },
     "execution_count": 43,
     "metadata": {},
     "output_type": "execute_result"
    }
   ],
   "source": [
    "df_in = read_results(\"../results/integrated-rl-1.csv\")\n",
    "df_in.sum()/1000"
   ]
  },
  {
   "cell_type": "markdown",
   "metadata": {},
   "source": [
    "## Risk Averse (r=0.5,0.3, acc=70,90)"
   ]
  },
  {
   "cell_type": "code",
   "execution_count": 17,
   "metadata": {},
   "outputs": [
    {
     "data": {
      "text/plain": [
       "167052"
      ]
     },
     "execution_count": 17,
     "metadata": {},
     "output_type": "execute_result"
    }
   ],
   "source": [
    "df_in = read_results(\"../results/integrated-risk-averse.csv\")\n",
    "len(df_in)"
   ]
  },
  {
   "cell_type": "markdown",
   "metadata": {},
   "source": [
    "## Risk Seeking (r=0.2,0.00, acc=70,90)"
   ]
  },
  {
   "cell_type": "code",
   "execution_count": 32,
   "metadata": {},
   "outputs": [
    {
     "data": {
      "text/plain": [
       "charged_regular_kwh    400.8096\n",
       "charged_vpp_kwh       1681.9659\n",
       "imbalance_kwh            1.0224\n",
       "lost_rentals_eur        15.4680\n",
       "lost_rentals_nb          1.2370\n",
       "profit_eur              87.9834\n",
       "dtype: float64"
      ]
     },
     "execution_count": 32,
     "metadata": {},
     "output_type": "execute_result"
    }
   ],
   "source": [
    "df_in = read_results(\"../results/integrated-risk-seeking.csv\")\n",
    "df_in.sum()/1000"
   ]
  },
  {
   "cell_type": "markdown",
   "metadata": {},
   "source": [
    "# Plots"
   ]
  },
  {
   "cell_type": "markdown",
   "metadata": {},
   "source": [
    "## Style"
   ]
  },
  {
   "cell_type": "code",
   "execution_count": 14,
   "metadata": {},
   "outputs": [
    {
     "data": {
      "image/png": "[encoded data removed]",
      "text/plain": [
       "<Figure size 360x72 with 1 Axes>"
      ]
     },
     "metadata": {},
     "output_type": "display_data"
    }
   ],
   "source": [
    "sns.set(rc={'figure.figsize':(10,6)})\n",
    "\n",
    "sns.set_context(\"paper\", font_scale=1.3)\n",
    "\n",
    "sns.set_style(\"white\")\n",
    "sns.set_style(\"ticks\")\n",
    "\n",
    "\n",
    "palette = sns.cubehelix_palette(5, start=.5, rot=-.75, reverse=True)\n",
    "sns.set_palette(palette)\n",
    "\n",
    "sns.palplot(palette)"
   ]
  },
  {
   "cell_type": "markdown",
   "metadata": {},
   "source": [
    "## Fleet Utilization"
   ]
  },
  {
   "cell_type": "code",
   "execution_count": 42,
   "metadata": {},
   "outputs": [
    {
     "data": {
      "image/png": "[encoded data removed]",
      "text/plain": [
       "<Figure size 720x432 with 1 Axes>"
      ]
     },
     "metadata": {},
     "output_type": "display_data"
    }
   ],
   "source": [
    "df_stats = read_results(\"../results/stats-baseline.csv\")\n",
    "df_stats[\"hour\"] = df_stats.index.hour\n",
    "df_stats.head()\n",
    "\n",
    "def labels(y):\n",
    "    label = y.split(\"_\")[0].title()\n",
    "    label = \"Connected\" if label == \"Charging\" else label\n",
    "    label = label.upper() if label == \"Vpp\" else label\n",
    "    return label\n",
    "\n",
    "Y = [\"available_evs\", \"charging_evs\", \"vpp_evs\"]\n",
    "for y in Y:\n",
    "    ax = sns.lineplot(x=\"hour\", y=y, ci=\"sd\", markers=['X'], data=df_stats, label=labels(y))\n",
    "    \n",
    "sns.despine(offset=10)\n",
    "ax.set(xlabel='Hour', ylabel='Number EVs')\n",
    "plt.xticks(np.arange(0, 24, 2), rotation=90);\n",
    "plt.yticks(np.arange(0, 500, 50));\n",
    "plt.savefig(\"../results/fig/fleet-utilization.png\")"
   ]
  }
 ],
 "metadata": {
  "kernelspec": {
   "display_name": "evsim",
   "language": "python",
   "name": "evsim"
  },
  "language_info": {
   "codemirror_mode": {
    "name": "ipython",
    "version": 3
   },
   "file_extension": ".py",
   "mimetype": "text/x-python",
   "name": "python",
   "nbconvert_exporter": "python",
   "pygments_lexer": "ipython3",
   "version": "3.7.2"
  },
  "toc": {
   "base_numbering": 1,
   "nav_menu": {},
   "number_sections": true,
   "sideBar": true,
   "skip_h1_title": false,
   "title_cell": "Table of Contents <br></br>",
   "title_sidebar": "Contents",
   "toc_cell": true,
   "toc_position": {},
   "toc_section_display": true,
   "toc_window_display": false
  }
 },
 "nbformat": 4,
 "nbformat_minor": 2
}
