{
 "cells": [
  {
   "cell_type": "markdown",
   "metadata": {
    "toc": true
   },
   "source": [
    "<h1>Table of Contents &lt;br&gt;&lt;/br&gt;<span class=\"tocSkip\"></span></h1>\n",
    "<div class=\"toc\"><ul class=\"toc-item\"><li><ul class=\"toc-item\"><li><span><a href=\"#Imports-and-Data-loading\" data-toc-modified-id=\"Imports-and-Data-loading-0.1\"><span class=\"toc-item-num\">0.1&nbsp;&nbsp;</span>Imports and Data loading</a></span></li><li><span><a href=\"#Regular-Profit\" data-toc-modified-id=\"Regular-Profit-0.2\"><span class=\"toc-item-num\">0.2&nbsp;&nbsp;</span>Regular Profit</a></span></li><li><span><a href=\"#Charging-Stations\" data-toc-modified-id=\"Charging-Stations-0.3\"><span class=\"toc-item-num\">0.3&nbsp;&nbsp;</span>Charging Stations</a></span></li></ul></li><li><span><a href=\"#Baseline-Charging\" data-toc-modified-id=\"Baseline-Charging-1\"><span class=\"toc-item-num\">1&nbsp;&nbsp;</span>Baseline Charging</a></span></li><li><span><a href=\"#Intraday\" data-toc-modified-id=\"Intraday-2\"><span class=\"toc-item-num\">2&nbsp;&nbsp;</span>Intraday</a></span><ul class=\"toc-item\"><li><span><a href=\"#Benchmark\" data-toc-modified-id=\"Benchmark-2.1\"><span class=\"toc-item-num\">2.1&nbsp;&nbsp;</span>Benchmark</a></span></li><li><span><a href=\"#Risk-Averse-(r=0.3,-acc=90)\" data-toc-modified-id=\"Risk-Averse-(r=0.3,-acc=90)-2.2\"><span class=\"toc-item-num\">2.2&nbsp;&nbsp;</span>Risk Averse (r=0.3, acc=90)</a></span></li></ul></li><li><span><a href=\"#Balancing\" data-toc-modified-id=\"Balancing-3\"><span class=\"toc-item-num\">3&nbsp;&nbsp;</span>Balancing</a></span><ul class=\"toc-item\"><li><span><a href=\"#Benchmark\" data-toc-modified-id=\"Benchmark-3.1\"><span class=\"toc-item-num\">3.1&nbsp;&nbsp;</span>Benchmark</a></span></li><li><span><a href=\"#Risk-Averse-(r=0.5,-acc=70)\" data-toc-modified-id=\"Risk-Averse-(r=0.5,-acc=70)-3.2\"><span class=\"toc-item-num\">3.2&nbsp;&nbsp;</span>Risk Averse (r=0.5, acc=70)</a></span></li></ul></li><li><span><a href=\"#Integrated\" data-toc-modified-id=\"Integrated-4\"><span class=\"toc-item-num\">4&nbsp;&nbsp;</span>Integrated</a></span><ul class=\"toc-item\"><li><span><a href=\"#Risk-Averse-(r=0.5,0.3,-acc=70,90)\" data-toc-modified-id=\"Risk-Averse-(r=0.5,0.3,-acc=70,90)-4.1\"><span class=\"toc-item-num\">4.1&nbsp;&nbsp;</span>Risk Averse (r=0.5,0.3, acc=70,90)</a></span></li><li><span><a href=\"#Risk-Seeking-(r=0.2,0.00,-acc=70,90)\" data-toc-modified-id=\"Risk-Seeking-(r=0.2,0.00,-acc=70,90)-4.2\"><span class=\"toc-item-num\">4.2&nbsp;&nbsp;</span>Risk Seeking (r=0.2,0.00, acc=70,90)</a></span></li><li><span><a href=\"#RL-(acc=50,60)\" data-toc-modified-id=\"RL-(acc=50,60)-4.3\"><span class=\"toc-item-num\">4.3&nbsp;&nbsp;</span>RL (acc=50,60)</a></span></li><li><span><a href=\"#RL-(acc=70,90)\" data-toc-modified-id=\"RL-(acc=70,90)-4.4\"><span class=\"toc-item-num\">4.4&nbsp;&nbsp;</span>RL (acc=70,90)</a></span></li><li><span><a href=\"#RL-(acc=80,95)\" data-toc-modified-id=\"RL-(acc=80,95)-4.5\"><span class=\"toc-item-num\">4.5&nbsp;&nbsp;</span>RL (acc=80,95)</a></span></li><li><span><a href=\"#RL-(acc=90,99)\" data-toc-modified-id=\"RL-(acc=90,99)-4.6\"><span class=\"toc-item-num\">4.6&nbsp;&nbsp;</span>RL (acc=90,99)</a></span></li><li><span><a href=\"#RL-(acc=100,100)\" data-toc-modified-id=\"RL-(acc=100,100)-4.7\"><span class=\"toc-item-num\">4.7&nbsp;&nbsp;</span>RL (acc=100,100)</a></span></li></ul></li><li><span><a href=\"#Plots\" data-toc-modified-id=\"Plots-5\"><span class=\"toc-item-num\">5&nbsp;&nbsp;</span>Plots</a></span><ul class=\"toc-item\"><li><span><a href=\"#Style\" data-toc-modified-id=\"Style-5.1\"><span class=\"toc-item-num\">5.1&nbsp;&nbsp;</span>Style</a></span></li><li><span><a href=\"#Fleet-Utilization\" data-toc-modified-id=\"Fleet-Utilization-5.2\"><span class=\"toc-item-num\">5.2&nbsp;&nbsp;</span>Fleet Utilization</a></span></li></ul></li></ul></div>"
   ]
  },
  {
   "cell_type": "markdown",
   "metadata": {},
   "source": [
    "## Imports and Data loading"
   ]
  },
  {
   "cell_type": "code",
   "execution_count": 1,
   "metadata": {},
   "outputs": [],
   "source": [
    "# Display plots inline\n",
    "%matplotlib inline\n",
    "\n",
    "# Autoreload all package before excecuting a call\n",
    "%load_ext autoreload\n",
    "%autoreload 2"
   ]
  },
  {
   "cell_type": "code",
   "execution_count": 2,
   "metadata": {},
   "outputs": [],
   "source": [
    "from datetime import datetime\n",
    "import matplotlib.pyplot as plt\n",
    "import numpy as np\n",
    "import pandas as pd\n",
    "import seaborn as sns\n",
    "\n",
    "from evsim.data import load"
   ]
  },
  {
   "cell_type": "code",
   "execution_count": 3,
   "metadata": {},
   "outputs": [],
   "source": [
    "pd.set_option('display.float_format', '{:.4f}'.format)\n",
    "\n",
    "start = \"2016-06-01\"\n",
    "end = \"2018-01-01\"\n",
    "\n",
    "def read_results(path):\n",
    "    df = pd.read_csv(path)\n",
    "    df[\"timestamp\"] = df[\"timestamp\"].apply(lambda x : datetime.fromtimestamp(x))\n",
    "    df = df.set_index(\"timestamp\") \n",
    "    df = df[start:end]\n",
    "    return df"
   ]
  },
  {
   "cell_type": "markdown",
   "metadata": {},
   "source": [
    "## Regular Profit"
   ]
  },
  {
   "cell_type": "code",
   "execution_count": 4,
   "metadata": {},
   "outputs": [
    {
     "data": {
      "text/plain": [
       "17707.869599999995"
      ]
     },
     "execution_count": 4,
     "metadata": {},
     "output_type": "execute_result"
    }
   ],
   "source": [
    "df_car2go = pd.read_pickle(\"../data/processed/trips_big.pkl\")\n",
    "df_car2go[\"end_time\"] = df_car2go[\"end_time\"].apply(lambda x : datetime.fromtimestamp(x))\n",
    "df_car2go = df_car2go.set_index(\"end_time\")\n",
    "df_car2go = df_car2go[start:end]\n",
    "df_car2go[\"trip_price\"].sum()/1000"
   ]
  },
  {
   "cell_type": "markdown",
   "metadata": {},
   "source": [
    "## Charging Stations"
   ]
  },
  {
   "cell_type": "code",
   "execution_count": 5,
   "metadata": {},
   "outputs": [
    {
     "data": {
      "text/plain": [
       "1858"
      ]
     },
     "execution_count": 5,
     "metadata": {},
     "output_type": "execute_result"
    }
   ],
   "source": [
    "df_c = df_car2go.loc[df_car2go[\"end_charging\"] == 1, [\"end_lat\", \"end_lon\"]].round(3)\n",
    "df_c[\"stations\"] = df_c[\"end_lat\"].astype(str) + \";\" + df_c[\"end_lon\"].astype(str)\n",
    "len(df_c[\"stations\"].unique())"
   ]
  },
  {
   "cell_type": "markdown",
   "metadata": {},
   "source": [
    "# Baseline Charging"
   ]
  },
  {
   "cell_type": "code",
   "execution_count": 6,
   "metadata": {},
   "outputs": [
    {
     "data": {
      "text/plain": [
       "charged_regular_kwh   2080.4895\n",
       "charged_vpp_kwh          0.0000\n",
       "imbalance_kwh            0.0000\n",
       "lost_rentals_eur         0.0000\n",
       "lost_rentals_nb          0.0000\n",
       "profit_eur               0.0000\n",
       "dtype: float64"
      ]
     },
     "execution_count": 6,
     "metadata": {},
     "output_type": "execute_result"
    }
   ],
   "source": [
    "df = read_results(\"../results/baseline.csv\")\n",
    "df.sum()/1000"
   ]
  },
  {
   "cell_type": "markdown",
   "metadata": {},
   "source": [
    "# Intraday"
   ]
  },
  {
   "cell_type": "markdown",
   "metadata": {},
   "source": [
    "## Benchmark"
   ]
  },
  {
   "cell_type": "code",
   "execution_count": 7,
   "metadata": {},
   "outputs": [
    {
     "data": {
      "text/plain": [
       "charged_regular_kwh    619.0956\n",
       "charged_vpp_kwh       1461.3939\n",
       "imbalance_kwh            0.0000\n",
       "lost_rentals_eur         0.0000\n",
       "lost_rentals_nb          0.0000\n",
       "profit_eur              65.6227\n",
       "dtype: float64"
      ]
     },
     "execution_count": 7,
     "metadata": {},
     "output_type": "execute_result"
    }
   ],
   "source": [
    "df_i = read_results(\"../results/intraday-benchmark.csv\")\n",
    "df_i.sum()/1000"
   ]
  },
  {
   "cell_type": "markdown",
   "metadata": {},
   "source": [
    "## Risk Averse (r=0.3, acc=90)"
   ]
  },
  {
   "cell_type": "code",
   "execution_count": 8,
   "metadata": {},
   "outputs": [
    {
     "name": "stdout",
     "output_type": "stream",
     "text": [
      "charged_regular_kwh   1095.8454\n",
      "charged_vpp_kwh        984.6441\n",
      "imbalance_kwh            0.0000\n",
      "lost_rentals_eur         0.0000\n",
      "lost_rentals_nb          0.0000\n",
      "profit_eur              45.0835\n",
      "dtype: float64\n"
     ]
    }
   ],
   "source": [
    "df_i = read_results(\"../results/intraday-risk-averse.csv\")\n",
    "print(df_i.sum()/1000)\n",
    "profit_intr = df_i[\"profit_eur\"].sum() / 1000"
   ]
  },
  {
   "cell_type": "markdown",
   "metadata": {},
   "source": [
    "# Balancing"
   ]
  },
  {
   "cell_type": "markdown",
   "metadata": {},
   "source": [
    "## Benchmark"
   ]
  },
  {
   "cell_type": "code",
   "execution_count": 9,
   "metadata": {},
   "outputs": [
    {
     "data": {
      "text/plain": [
       "charged_regular_kwh    62.7264\n",
       "charged_vpp_kwh       302.7240\n",
       "imbalance_kwh           0.0000\n",
       "lost_rentals_eur        0.1956\n",
       "lost_rentals_nb         0.0010\n",
       "profit_eur             16.4579\n",
       "dtype: float64"
      ]
     },
     "execution_count": 9,
     "metadata": {},
     "output_type": "execute_result"
    }
   ],
   "source": [
    "df_b = read_results(\"../results/balancing-benchmark.csv\")\n",
    "df_b.sum()/1000"
   ]
  },
  {
   "cell_type": "markdown",
   "metadata": {},
   "source": [
    "## Risk Averse (r=0.5, acc=70)"
   ]
  },
  {
   "cell_type": "code",
   "execution_count": 10,
   "metadata": {},
   "outputs": [
    {
     "name": "stdout",
     "output_type": "stream",
     "text": [
      "charged_regular_kwh   1277.9280\n",
      "charged_vpp_kwh        802.5615\n",
      "imbalance_kwh            0.0000\n",
      "lost_rentals_eur         0.0000\n",
      "lost_rentals_nb          0.0000\n",
      "profit_eur              43.6228\n",
      "dtype: float64\n"
     ]
    }
   ],
   "source": [
    "df_b = read_results(\"../results/balancing-risk-averse.csv\")\n",
    "print(df_b.sum()/1000)\n",
    "profit_bal = df_b[\"profit_eur\"].sum() / 1000"
   ]
  },
  {
   "cell_type": "markdown",
   "metadata": {},
   "source": [
    "# Integrated"
   ]
  },
  {
   "cell_type": "code",
   "execution_count": 11,
   "metadata": {},
   "outputs": [
    {
     "name": "stdout",
     "output_type": "stream",
     "text": [
      "charged_regular_kwh    196.8210\n",
      "charged_vpp_kwh       1883.6685\n",
      "imbalance_kwh            0.0000\n",
      "lost_rentals_eur         0.0000\n",
      "lost_rentals_nb          0.0000\n",
      "profit_eur              99.1283\n",
      "dtype: float64\n"
     ]
    }
   ],
   "source": [
    "df_in = read_results(\"../results/integrated-benchmark.csv\")\n",
    "print(df_in.sum()/1000)\n",
    "profit_bench = df_in[\"profit_eur\"].sum() / 1000\n"
   ]
  },
  {
   "cell_type": "code",
   "execution_count": 12,
   "metadata": {},
   "outputs": [
    {
     "name": "stdout",
     "output_type": "stream",
     "text": [
      "charged_regular_kwh    607.7925\n",
      "charged_vpp_kwh       1472.6970\n",
      "imbalance_kwh            0.0000\n",
      "lost_rentals_eur         0.0000\n",
      "lost_rentals_nb          0.0000\n",
      "profit_eur              77.3565\n",
      "dtype: float64\n"
     ]
    }
   ],
   "source": [
    "df_in = read_results(\"../results/integrated-benchmark-acc-1.csv\")\n",
    "print(df_in.sum()/1000)\n",
    "profit_bench = df_in[\"profit_eur\"].sum() / 1000\n"
   ]
  },
  {
   "cell_type": "markdown",
   "metadata": {},
   "source": [
    "## Risk Averse (r=0.5,0.3, acc=70,90)"
   ]
  },
  {
   "cell_type": "code",
   "execution_count": 13,
   "metadata": {},
   "outputs": [
    {
     "name": "stdout",
     "output_type": "stream",
     "text": [
      "charged_regular_kwh    788.5719\n",
      "charged_vpp_kwh       1291.9176\n",
      "imbalance_kwh            0.0000\n",
      "lost_rentals_eur         0.0000\n",
      "lost_rentals_nb          0.0000\n",
      "profit_eur              67.0389\n",
      "dtype: float64\n"
     ]
    }
   ],
   "source": [
    "df_in = read_results(\"../results/integrated-risk-averse.csv\")\n",
    "print(df_in.sum()/1000)\n",
    "profit_in = df_in[\"profit_eur\"].sum() / 1000"
   ]
  },
  {
   "cell_type": "markdown",
   "metadata": {},
   "source": [
    "## Risk Seeking (r=0.2,0.00, acc=70,90)"
   ]
  },
  {
   "cell_type": "code",
   "execution_count": 14,
   "metadata": {},
   "outputs": [
    {
     "data": {
      "text/plain": [
       "charged_regular_kwh    400.8096\n",
       "charged_vpp_kwh       1681.9659\n",
       "imbalance_kwh            1.0224\n",
       "lost_rentals_eur        15.4680\n",
       "lost_rentals_nb          1.2370\n",
       "profit_eur              87.9834\n",
       "dtype: float64"
      ]
     },
     "execution_count": 14,
     "metadata": {},
     "output_type": "execute_result"
    }
   ],
   "source": [
    "df_in = read_results(\"../results/integrated-risk-seeking.csv\")\n",
    "df_in.sum()/1000"
   ]
  },
  {
   "cell_type": "markdown",
   "metadata": {},
   "source": [
    "## RL (acc=50,60)"
   ]
  },
  {
   "cell_type": "code",
   "execution_count": 15,
   "metadata": {},
   "outputs": [
    {
     "name": "stdout",
     "output_type": "stream",
     "text": [
      "charged_regular_kwh   1179.3222\n",
      "charged_vpp_kwh        901.1673\n",
      "imbalance_kwh            0.0009\n",
      "lost_rentals_eur         0.0000\n",
      "lost_rentals_nb          0.0000\n",
      "profit_eur              48.3246\n",
      "risk_bal                50.1156\n",
      "risk_intr              167.0520\n",
      "dtype: float64\n",
      "Risk factors - Balancing: 0.30. Intraday:1.00\n",
      "Profit comparison - Balancing: +111%, Intraday: +107%, Integrated: +72%, , Benchmark: +62%\n"
     ]
    }
   ],
   "source": [
    "df_rl = read_results(\"../results/accuracy/DDDQN-50-60_result.csv\")\n",
    "print(df_rl.sum()/1000)\n",
    "profit_rl = df_rl[\"profit_eur\"].sum() / 1000\n",
    "print(\"Risk factors - Balancing: {:.2f}. Intraday:{:.2f}\".format(df_rl[\"risk_bal\"].mean(), df_rl[\"risk_intr\"].mean()))\n",
    "\n",
    "print(\"Profit comparison - Balancing: {:+.0%}, Intraday: {:+.0%}, Integrated: {:+.0%}, , Benchmark: {:+.0%}\".format(\n",
    "            profit_rl / profit_bal,\n",
    "            profit_rl / profit_intr,\n",
    "            profit_rl / profit_in,\n",
    "            profit_rl / profit_bench\n",
    "            )\n",
    "\n",
    "     )"
   ]
  },
  {
   "cell_type": "markdown",
   "metadata": {},
   "source": [
    "## RL (acc=70,90)"
   ]
  },
  {
   "cell_type": "code",
   "execution_count": 16,
   "metadata": {},
   "outputs": [
    {
     "name": "stdout",
     "output_type": "stream",
     "text": [
      "charged_regular_kwh    618.9282\n",
      "charged_vpp_kwh       1461.5613\n",
      "imbalance_kwh            0.0000\n",
      "lost_rentals_eur         0.0000\n",
      "lost_rentals_nb          0.0000\n",
      "profit_eur              74.9090\n",
      "risk_bal                83.5260\n",
      "risk_intr               25.0578\n",
      "dtype: float64\n",
      "Risk factors - Balancing: 0.50. Intraday:0.15\n",
      "Profit comparison - Balancing: +172%, Intraday: +166%, Integrated: +112%, , Benchmark: +97%\n"
     ]
    }
   ],
   "source": [
    "df_rl = read_results(\"../results/accuracy/DDDQN-70-90_result.csv\")\n",
    "#df_rl = read_results(\"~/Downloads/DDDQN-70-90_result.csv\")\n",
    "print(df_rl.sum()/1000)\n",
    "profit_rl = df_rl[\"profit_eur\"].sum() / 1000\n",
    "print(\"Risk factors - Balancing: {:.2f}. Intraday:{:.2f}\".format(df_rl[\"risk_bal\"].mean(), df_rl[\"risk_intr\"].mean()))\n",
    "\n",
    "print(\"Profit comparison - Balancing: {:+.0%}, Intraday: {:+.0%}, Integrated: {:+.0%}, , Benchmark: {:+.0%}\".format(\n",
    "            profit_rl / profit_bal,\n",
    "            profit_rl / profit_intr,\n",
    "            profit_rl / profit_in,\n",
    "            profit_rl / profit_bench\n",
    "            )\n",
    "      )"
   ]
  },
  {
   "cell_type": "markdown",
   "metadata": {},
   "source": [
    "## RL (acc=80,95)"
   ]
  },
  {
   "cell_type": "code",
   "execution_count": 17,
   "metadata": {},
   "outputs": [
    {
     "name": "stdout",
     "output_type": "stream",
     "text": [
      "charged_regular_kwh    599.6052\n",
      "charged_vpp_kwh       1480.8843\n",
      "imbalance_kwh            0.0000\n",
      "lost_rentals_eur         0.0000\n",
      "lost_rentals_nb          0.0000\n",
      "profit_eur              79.0865\n",
      "risk_bal                33.4104\n",
      "risk_intr               75.1734\n",
      "dtype: float64\n",
      "Risk factors - Balancing: 0.20. Intraday:0.45\n",
      "Profit comparison - Balancing: +181%, Intraday: +175%, Integrated: +118%, , Benchmark: +102%\n"
     ]
    }
   ],
   "source": [
    "df_rl = read_results(\"../results/accuracy/DDDQN-80-95_result.csv\")\n",
    "print(df_rl.sum()/1000)\n",
    "profit_rl = df_rl[\"profit_eur\"].sum() / 1000\n",
    "print(\"Risk factors - Balancing: {:.2f}. Intraday:{:.2f}\".format(df_rl[\"risk_bal\"].mean(), df_rl[\"risk_intr\"].mean()))\n",
    "\n",
    "print(\"Profit comparison - Balancing: {:+.0%}, Intraday: {:+.0%}, Integrated: {:+.0%}, , Benchmark: {:+.0%}\".format(\n",
    "            profit_rl / profit_bal,\n",
    "            profit_rl / profit_intr,\n",
    "            profit_rl / profit_in,\n",
    "            profit_rl / profit_bench\n",
    "            )\n",
    "      )"
   ]
  },
  {
   "cell_type": "markdown",
   "metadata": {},
   "source": [
    "## RL (acc=90,99)"
   ]
  },
  {
   "cell_type": "code",
   "execution_count": 18,
   "metadata": {},
   "outputs": [
    {
     "name": "stdout",
     "output_type": "stream",
     "text": [
      "charged_regular_kwh    555.7428\n",
      "charged_vpp_kwh       1524.7467\n",
      "imbalance_kwh            0.0000\n",
      "lost_rentals_eur         0.0000\n",
      "lost_rentals_nb          0.0000\n",
      "profit_eur              81.0109\n",
      "risk_bal                41.7630\n",
      "risk_intr               58.4682\n",
      "dtype: float64\n",
      "Risk factors - Balancing: 0.25. Intraday:0.35\n",
      "Profit comparison - Balancing: +186%, Intraday: +180%, Integrated: +121%, , Benchmark: +105%\n"
     ]
    }
   ],
   "source": [
    "df_rl = read_results(\"../results/accuracy/DDDQN-90-99_result.csv\")\n",
    "print(df_rl.sum()/1000)\n",
    "profit_rl = df_rl[\"profit_eur\"].sum() / 1000\n",
    "print(\"Risk factors - Balancing: {:.2f}. Intraday:{:.2f}\".format(df_rl[\"risk_bal\"].mean(), df_rl[\"risk_intr\"].mean()))\n",
    "\n",
    "print(\"Profit comparison - Balancing: {:+.0%}, Intraday: {:+.0%}, Integrated: {:+.0%}, , Benchmark: {:+.0%}\".format(\n",
    "            profit_rl / profit_bal,\n",
    "            profit_rl / profit_intr,\n",
    "            profit_rl / profit_in,\n",
    "            profit_rl / profit_bench\n",
    "            )\n",
    "      )"
   ]
  },
  {
   "cell_type": "markdown",
   "metadata": {},
   "source": [
    "## RL (acc=100,100)"
   ]
  },
  {
   "cell_type": "code",
   "execution_count": 19,
   "metadata": {},
   "outputs": [
    {
     "name": "stdout",
     "output_type": "stream",
     "text": [
      "charged_regular_kwh    257.3739\n",
      "charged_vpp_kwh       1823.1156\n",
      "imbalance_kwh            0.0000\n",
      "lost_rentals_eur         0.0000\n",
      "lost_rentals_nb          0.0000\n",
      "profit_eur              96.2450\n",
      "risk_bal                 6.2640\n",
      "risk_intr               18.7938\n",
      "dtype: float64\n",
      "Risk factors - Balancing: 0.04. Intraday:0.11\n",
      "Profit comparison - Balancing: +221%, Intraday: +213%, Integrated: +144%, , Benchmark: +124%\n"
     ]
    }
   ],
   "source": [
    "df_rl = read_results(\"../results/accuracy/DDDQN-100-100_result.csv\")\n",
    "print(df_rl.sum()/1000)\n",
    "profit_rl = df_rl[\"profit_eur\"].sum() / 1000\n",
    "print(\"Risk factors - Balancing: {:.2f}. Intraday:{:.2f}\".format(df_rl[\"risk_bal\"].mean(), df_rl[\"risk_intr\"].mean()))\n",
    "\n",
    "print(\"Profit comparison - Balancing: {:+.0%}, Intraday: {:+.0%}, Integrated: {:+.0%}, , Benchmark: {:+.0%}\".format(\n",
    "            profit_rl / profit_bal,\n",
    "            profit_rl / profit_intr,\n",
    "            profit_rl / profit_in,\n",
    "            profit_rl / profit_bench\n",
    "            )\n",
    "      )"
   ]
  },
  {
   "cell_type": "markdown",
   "metadata": {},
   "source": [
    "# Plots"
   ]
  },
  {
   "cell_type": "markdown",
   "metadata": {},
   "source": [
    "## Style"
   ]
  },
  {
   "cell_type": "code",
   "execution_count": 20,
   "metadata": {},
   "outputs": [
    {
     "data": {
      "image/png": "[encoded data removed]",
      "text/plain": [
       "<Figure size 360x72 with 1 Axes>"
      ]
     },
     "metadata": {},
     "output_type": "display_data"
    }
   ],
   "source": [
    "sns.set(rc={'figure.figsize':(10,6)})\n",
    "sns.set_context(\"paper\", font_scale=1.3, rc={\"lines.linewidth\": 1.5, \"lines.markersize\": 7})\n",
    "\n",
    "sns.set_style(\"white\")\n",
    "sns.set_style(\"ticks\")\n",
    "\n",
    "palette = sns.cubehelix_palette(5, start=.5, rot=-.75, reverse=True)\n",
    "sns.set_palette(palette)\n",
    "\n",
    "sns.palplot(palette)"
   ]
  },
  {
   "cell_type": "markdown",
   "metadata": {},
   "source": [
    "## Fleet Utilization"
   ]
  },
  {
   "cell_type": "code",
   "execution_count": 30,
   "metadata": {},
   "outputs": [
    {
     "data": {
      "image/png": "[encoded data removed]",
      "text/plain": [
       "<Figure size 720x432 with 1 Axes>"
      ]
     },
     "metadata": {},
     "output_type": "display_data"
    }
   ],
   "source": [
    "df_stats = read_results(\"../results/stats-baseline.csv\")\n",
    "\n",
    "df_stats = df_stats[[\"available_evs\", \"charging_evs\", \"vpp_evs\"]]\n",
    "df_stats.columns = [\"Available\", \"Connected\", \"VPP\"]\n",
    "\n",
    "x = \"Hour\"\n",
    "value_name = \"Number EVs\"\n",
    "var_name = \"Status\"\n",
    "\n",
    "df_stats[x] = df_stats.index.hour\n",
    "df_stats = pd.melt(df_stats, id_vars=x, var_name=var_name, value_name=value_name) \n",
    "\n",
    "sns.set_palette(sns.cubehelix_palette(4, start=.5, rot=-.75, reverse=True))\n",
    "sns.lineplot(x=x, y=value_name, hue=var_name, style=var_name, ci=\"sd\", markers=False, data=df_stats)\n",
    "\n",
    "sns.despine(offset=10)\n",
    "plt.xticks(np.arange(0, 24, 2));\n",
    "plt.yticks(np.arange(0, 500, 50));"
   ]
  }
 ],
 "metadata": {
  "kernelspec": {
   "display_name": "evsim",
   "language": "python",
   "name": "evsim"
  },
  "language_info": {
   "codemirror_mode": {
    "name": "ipython",
    "version": 3
   },
   "file_extension": ".py",
   "mimetype": "text/x-python",
   "name": "python",
   "nbconvert_exporter": "python",
   "pygments_lexer": "ipython3",
   "version": "3.7.2"
  },
  "toc": {
   "base_numbering": 1,
   "nav_menu": {},
   "number_sections": true,
   "sideBar": true,
   "skip_h1_title": false,
   "title_cell": "Table of Contents <br></br>",
   "title_sidebar": "Contents",
   "toc_cell": true,
   "toc_position": {},
   "toc_section_display": true,
   "toc_window_display": false
  }
 },
 "nbformat": 4,
 "nbformat_minor": 2
}
